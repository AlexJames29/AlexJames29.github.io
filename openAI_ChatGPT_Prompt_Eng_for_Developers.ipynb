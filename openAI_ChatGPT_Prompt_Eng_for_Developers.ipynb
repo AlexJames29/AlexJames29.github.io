{
  "nbformat": 4,
  "nbformat_minor": 0,
  "metadata": {
    "colab": {
      "provenance": [],
      "authorship_tag": "ABX9TyPzKBMpY7yFWzanPmL2BoJe",
      "include_colab_link": true
    },
    "kernelspec": {
      "name": "python3",
      "display_name": "Python 3"
    },
    "language_info": {
      "name": "python"
    }
  },
  "cells": [
    {
      "cell_type": "markdown",
      "metadata": {
        "id": "view-in-github",
        "colab_type": "text"
      },
      "source": [
        "<a href=\"https://colab.research.google.com/github/AlexJames29/AlexJames29.github.io/blob/master/openAI_ChatGPT_Prompt_Eng_for_Developers.ipynb\" target=\"_parent\"><img src=\"https://colab.research.google.com/assets/colab-badge.svg\" alt=\"Open In Colab\"/></a>"
      ]
    },
    {
      "cell_type": "code",
      "source": [
        "!pip install openai --quiet\n",
        "!pip install ipython --quiet\n",
        "\n"
      ],
      "metadata": {
        "colab": {
          "base_uri": "https://localhost:8080/"
        },
        "id": "byFZI4Af0c7o",
        "outputId": "0da58e6d-b636-4d69-ab89-3be579075fd9"
      },
      "execution_count": 2,
      "outputs": [
        {
          "output_type": "stream",
          "name": "stdout",
          "text": [
            "\u001b[2K     \u001b[90m━━━━━━━━━━━━━━━━━━━━━━━━━━━━━━━━━━━━━━━━\u001b[0m \u001b[32m76.5/76.5 kB\u001b[0m \u001b[31m1.3 MB/s\u001b[0m eta \u001b[36m0:00:00\u001b[0m\n",
            "\u001b[2K     \u001b[90m━━━━━━━━━━━━━━━━━━━━━━━━━━━━━━━━━━━━━━━━\u001b[0m \u001b[32m1.6/1.6 MB\u001b[0m \u001b[31m16.6 MB/s\u001b[0m eta \u001b[36m0:00:00\u001b[0m\n",
            "\u001b[?25h"
          ]
        }
      ]
    },
    {
      "cell_type": "code",
      "execution_count": 3,
      "metadata": {
        "id": "rhFjP8BJyooA"
      },
      "outputs": [],
      "source": [
        "key = \"-XXXXXXXXXXXXXXXXXXXXXXXXXXXXXX\"\n",
        "import openai\n",
        "openai.api_key = key\n"
      ]
    },
    {
      "cell_type": "code",
      "source": [
        "\n",
        "def get_chat(messages,temp=0.0):\n",
        "  response = openai.ChatCompletion.create(\n",
        "      messages=messages,\n",
        "      model = \"gpt-3.5-turbo\",\n",
        "      temperature=temp,\n",
        "  )\n",
        "  return response['choices'][0].message.content"
      ],
      "metadata": {
        "id": "47XAbUKT1Njv"
      },
      "execution_count": 4,
      "outputs": []
    },
    {
      "cell_type": "markdown",
      "source": [
        "# Calculate Code Complexity"
      ],
      "metadata": {
        "id": "NUbwPfNM1TZO"
      }
    },
    {
      "cell_type": "code",
      "source": [
        "\n",
        "code = \"\"\"\n",
        "def myfun(c,v):\n",
        "  counter = 0\n",
        "  for i in range(c):\n",
        "    for j in range(v):\n",
        "      counter +=1\n",
        "  return counter\n",
        "\"\"\"\n",
        "messages = [{\"role\":\"system\",'content':\"you will be provided with python code, and your task is to calculate its time complexity.\"},\n",
        "            {\"role\":\"system\",'content':code}]\n",
        "print(get_chat(messages))"
      ],
      "metadata": {
        "colab": {
          "base_uri": "https://localhost:8080/"
        },
        "id": "3QIfP0Ci1SJ_",
        "outputId": "c3673b9a-c328-4824-cfdc-e1cce42f7624"
      },
      "execution_count": null,
      "outputs": [
        {
          "output_type": "stream",
          "name": "stdout",
          "text": [
            "The time complexity of this code can be calculated by analyzing the number of iterations in the nested loops.\n",
            "\n",
            "The outer loop iterates `c` times, and the inner loop iterates `v` times. Therefore, the total number of iterations is `c * v`.\n",
            "\n",
            "Since there are no other significant operations in the code, the time complexity can be expressed as O(c * v).\n"
          ]
        }
      ]
    },
    {
      "cell_type": "markdown",
      "source": [
        "# Improve code efficiency"
      ],
      "metadata": {
        "id": "ZojjbzBe2GG2"
      }
    },
    {
      "cell_type": "code",
      "source": [
        "code = \"\"\"\n",
        "from typing import List\n",
        "def has_sum_k(nums: List[int], k: int) -> bool:\n",
        "    '''\n",
        "    Returns True if there are two distinct elements in nums such that their sum\n",
        "    is equal to k, and otherwise returns False.\n",
        "    '''\n",
        "    n = len(nums)\n",
        "    for i in range(n):\n",
        "        for j in range(i+1, n):\n",
        "            if nums[i] + nums[j] == k:\n",
        "                return True\n",
        "    return False\n",
        "\"\"\"\n",
        "\n",
        "\n",
        "\n",
        "messages = [{\"role\":\"system\",'content':\"you will be provided with a piece of python code, and your task is to provide better ideas for efficiency improvements.\"},\n",
        "            {\"role\":\"system\",'content':code}]\n",
        "\n",
        "\n",
        "\n",
        "print(get_chat(messages))\n",
        "\n"
      ],
      "metadata": {
        "colab": {
          "base_uri": "https://localhost:8080/"
        },
        "id": "Jn31Gi7l2IiW",
        "outputId": "570b812a-f009-4856-b9c9-7c446c75e3b8"
      },
      "execution_count": null,
      "outputs": [
        {
          "output_type": "stream",
          "name": "stdout",
          "text": [
            "One possible improvement is to use a set to store the complement of each number in the list. By doing so, we can reduce the time complexity from O(n^2) to O(n).\n",
            "\n",
            "Here's an updated version of the code:\n",
            "\n",
            "```python\n",
            "from typing import List\n",
            "\n",
            "def has_sum_k(nums: List[int], k: int) -> bool:\n",
            "    '''\n",
            "    Returns True if there are two distinct elements in nums such that their sum \n",
            "    is equal to k, and otherwise returns False.\n",
            "    '''\n",
            "    complements = set()\n",
            "    for num in nums:\n",
            "        complement = k - num\n",
            "        if complement in complements:\n",
            "            return True\n",
            "        complements.add(num)\n",
            "    return False\n",
            "```\n",
            "\n",
            "In this version, we iterate through each number in the list and check if its complement (k - num) is already in the set of complements. If it is, we know that we have found two distinct elements whose sum is equal to k, and we return True. Otherwise, we add the current number to the set of complements and continue to the next number. If we reach the end of the loop without finding a match, we return False.\n"
          ]
        }
      ]
    },
    {
      "cell_type": "markdown",
      "source": [
        "# Explain a piece of code\n",
        "\n"
      ],
      "metadata": {
        "id": "2AIuWYVX3Y5G"
      }
    },
    {
      "cell_type": "code",
      "source": [
        "code = \"\"\"\n",
        "from typing import List\n",
        "def has_sum_k(nums: List[int], k: int) -> bool:\n",
        "    '''\n",
        "    Returns True if there are two distinct elements in nums such that their sum\n",
        "    is equal to k, and otherwise returns False.\n",
        "    '''\n",
        "    n = len(nums)\n",
        "    for i in range(n):\n",
        "        for j in range(i+1, n):\n",
        "            if nums[i] + nums[j] == k:\n",
        "                return True\n",
        "    return False\n",
        "\"\"\"\n",
        "\n",
        "\n",
        "\n",
        "messages = [{\"role\":\"system\",'content':\"you will be provided with a piece of python code, and your task is to explain it in a concise way.\"},\n",
        "            {\"role\":\"system\",'content':code}]\n",
        "\n",
        "\n",
        "\n",
        "print(get_chat(messages))\n",
        "\n"
      ],
      "metadata": {
        "colab": {
          "base_uri": "https://localhost:8080/"
        },
        "id": "gt_faqLX2Ifm",
        "outputId": "519518bb-1eec-45c6-aee4-52c55087f39a"
      },
      "execution_count": null,
      "outputs": [
        {
          "output_type": "stream",
          "name": "stdout",
          "text": [
            "This code defines a function called `has_sum_k` that takes in a list of integers `nums` and an integer `k`. The function checks if there are two distinct elements in the list whose sum is equal to `k`. \n",
            "\n",
            "The function uses a nested loop to iterate through all possible pairs of elements in the list. It starts with the first element and compares it with all the elements that come after it. If the sum of the two elements is equal to `k`, the function returns `True`. If no such pair is found after checking all possible pairs, the function returns `False`.\n"
          ]
        }
      ]
    },
    {
      "cell_type": "markdown",
      "source": [
        "# Code Generation with openAI\n",
        "## Create a single page website"
      ],
      "metadata": {
        "id": "NLqcFqMi3-h3"
      }
    },
    {
      "cell_type": "code",
      "source": [
        "messages = [{\"role\":\"user\",'content':\"Make a single page website that shows off different neat javascript features for drop downs and things to display information. The website should be an HTML file with embedded javascript and css. In the output only provide code without description\"}]\n",
        "\n",
        "\n",
        "\n",
        "response = get_chat(messages)\n",
        "print(response)\n",
        "\n",
        "\n"
      ],
      "metadata": {
        "id": "6iL9RxMH2Iav"
      },
      "execution_count": null,
      "outputs": []
    },
    {
      "cell_type": "code",
      "source": [
        "from IPython.display import display, HTML\n",
        "display(HTML(response))"
      ],
      "metadata": {
        "colab": {
          "base_uri": "https://localhost:8080/",
          "height": 336
        },
        "id": "bsRnLJhz6NPH",
        "outputId": "b00b8adb-b550-4152-e1ed-7211230505e9"
      },
      "execution_count": null,
      "outputs": [
        {
          "output_type": "display_data",
          "data": {
            "text/plain": [
              "<IPython.core.display.HTML object>"
            ],
            "text/html": [
              "<!DOCTYPE html>\n",
              "<html>\n",
              "<head>\n",
              "  <title>JavaScript Features Demo</title>\n",
              "  <style>\n",
              "    .dropdown {\n",
              "      position: relative;\n",
              "      display: inline-block;\n",
              "    }\n",
              "\n",
              "    .dropdown-content {\n",
              "      display: none;\n",
              "      position: absolute;\n",
              "      background-color: #f9f9f9;\n",
              "      min-width: 160px;\n",
              "      box-shadow: 0px 8px 16px 0px rgba(0,0,0,0.2);\n",
              "      padding: 12px 16px;\n",
              "      z-index: 1;\n",
              "    }\n",
              "\n",
              "    .dropdown:hover .dropdown-content {\n",
              "      display: block;\n",
              "    }\n",
              "  </style>\n",
              "</head>\n",
              "<body>\n",
              "  <h1>JavaScript Features Demo</h1>\n",
              "\n",
              "  <h2>Dropdown Menu</h2>\n",
              "  <div class=\"dropdown\">\n",
              "    <button>Click me</button>\n",
              "    <div class=\"dropdown-content\">\n",
              "      <a href=\"#\">Option 1</a>\n",
              "      <a href=\"#\">Option 2</a>\n",
              "      <a href=\"#\">Option 3</a>\n",
              "    </div>\n",
              "  </div>\n",
              "\n",
              "  <h2>Accordion</h2>\n",
              "  <button class=\"accordion\">Section 1</button>\n",
              "  <div class=\"panel\">\n",
              "    <p>Content for section 1.</p>\n",
              "  </div>\n",
              "\n",
              "  <button class=\"accordion\">Section 2</button>\n",
              "  <div class=\"panel\">\n",
              "    <p>Content for section 2.</p>\n",
              "  </div>\n",
              "\n",
              "  <button class=\"accordion\">Section 3</button>\n",
              "  <div class=\"panel\">\n",
              "    <p>Content for section 3.</p>\n",
              "  </div>\n",
              "\n",
              "  <script>\n",
              "    // Dropdown Menu\n",
              "    var dropdowns = document.getElementsByClassName(\"dropdown\");\n",
              "    var i;\n",
              "\n",
              "    for (i = 0; i < dropdowns.length; i++) {\n",
              "      dropdowns[i].addEventListener(\"click\", function() {\n",
              "        this.classList.toggle(\"active\");\n",
              "        var dropdownContent = this.nextElementSibling;\n",
              "        if (dropdownContent.style.display === \"block\") {\n",
              "          dropdownContent.style.display = \"none\";\n",
              "        } else {\n",
              "          dropdownContent.style.display = \"block\";\n",
              "        }\n",
              "      });\n",
              "    }\n",
              "\n",
              "    // Accordion\n",
              "    var accordions = document.getElementsByClassName(\"accordion\");\n",
              "    var j;\n",
              "\n",
              "    for (j = 0; j < accordions.length; j++) {\n",
              "      accordions[j].addEventListener(\"click\", function() {\n",
              "        this.classList.toggle(\"active\");\n",
              "        var panel = this.nextElementSibling;\n",
              "        if (panel.style.display === \"block\") {\n",
              "          panel.style.display = \"none\";\n",
              "        } else {\n",
              "          panel.style.display = \"block\";\n",
              "        }\n",
              "      });\n",
              "    }\n",
              "  </script>\n",
              "</body>\n",
              "</html>"
            ]
          },
          "metadata": {}
        }
      ]
    },
    {
      "cell_type": "markdown",
      "source": [
        "# Generate SQL Queries from natural language"
      ],
      "metadata": {
        "id": "WtBYEtRH5Xru"
      }
    },
    {
      "cell_type": "code",
      "source": [
        "table_code = \"\"\"\n",
        "CREATE TABLE Orders (\n",
        "  OrderID int,\n",
        "  CustomerID int,\n",
        "  OrderDate datetime,\n",
        "  OrderTime varchar(8),\n",
        "  PRIMARY KEY (OrderID)\n",
        ");\n",
        "\n",
        "CREATE TABLE OrderDetails (\n",
        "  OrderDetailID int,\n",
        "  OrderID int,\n",
        "  ProductID int,\n",
        "  Quantity int,\n",
        "  PRIMARY KEY (OrderDetailID)\n",
        ");\n",
        "\n",
        "CREATE TABLE Products (\n",
        "  ProductID int,\n",
        "  ProductName varchar(50),\n",
        "  Category varchar(50),\n",
        "  UnitPrice decimal(10, 2),\n",
        "  Stock int,\n",
        "  PRIMARY KEY (ProductID)\n",
        ");\n",
        "\n",
        "CREATE TABLE Customers (\n",
        "  CustomerID int,\n",
        "  FirstName varchar(50),\n",
        "  LastName varchar(50),\n",
        "  Email varchar(100),\n",
        "  Phone varchar(20),\n",
        "  PRIMARY KEY (CustomerID)\n",
        ");\n",
        "\"\"\"\n",
        "\n",
        "messages = [{\"role\":\"system\",'content':f\"\"\" Given the following SQL tables, your job is to write queries given a user's input request.\n",
        "Tables: {table_code}\n",
        "\"\"\"},\n",
        "            {\"role\":\"user\",'content':\"Write a query which calculates the average of total order values for all orders on 20-09-2023\"}]\n",
        "\n",
        "print(get_chat(messages))"
      ],
      "metadata": {
        "colab": {
          "base_uri": "https://localhost:8080/"
        },
        "id": "0FcA0U9M2IYH",
        "outputId": "0eb983f3-04f4-4511-e86e-a721cec7c710"
      },
      "execution_count": null,
      "outputs": [
        {
          "output_type": "stream",
          "name": "stdout",
          "text": [
            "SELECT AVG(total_order_value) AS average_order_value\n",
            "FROM (\n",
            "  SELECT o.OrderID, SUM(p.UnitPrice * od.Quantity) AS total_order_value\n",
            "  FROM Orders o\n",
            "  INNER JOIN OrderDetails od ON o.OrderID = od.OrderID\n",
            "  INNER JOIN Products p ON od.ProductID = p.ProductID\n",
            "  WHERE o.OrderDate = '2023-09-20'\n",
            "  GROUP BY o.OrderID\n",
            ") AS order_totals;\n"
          ]
        }
      ]
    },
    {
      "cell_type": "markdown",
      "source": [
        "# Code from Description\n"
      ],
      "metadata": {
        "id": "i_bkLvDYL90w"
      }
    },
    {
      "cell_type": "code",
      "source": [
        "messages = [{\"role\":\"system\",'content':\"\"\"\n",
        "Create a python function which takes as input a file path to an imagem loads the image into memory as a numpy array,\n",
        "then crops the rows and columns around the perimeter if they are darker than a threshold value. Use the mean value of rows and columns to decide if they\n",
        "should be marked for deletion\n",
        "\n",
        "\n",
        "\"\"\"}]\n",
        "\n",
        "print(get_chat(messages))"
      ],
      "metadata": {
        "colab": {
          "base_uri": "https://localhost:8080/"
        },
        "id": "WFn3ukEPL7rY",
        "outputId": "e69a76c1-fd3b-432d-e747-bb5749c67fcb"
      },
      "execution_count": 8,
      "outputs": [
        {
          "output_type": "stream",
          "name": "stdout",
          "text": [
            "Here is a python function that takes a file path to an image, loads the image into memory as a numpy array, and crops the rows and columns around the perimeter if they are darker than a threshold value:\n",
            "\n",
            "```python\n",
            "import cv2\n",
            "import numpy as np\n",
            "\n",
            "def crop_dark_perimeter(image_path, threshold=100):\n",
            "    # Load image\n",
            "    image = cv2.imread(image_path, cv2.IMREAD_GRAYSCALE)\n",
            "\n",
            "    # Calculate mean values of rows and columns\n",
            "    row_means = np.mean(image, axis=1)\n",
            "    col_means = np.mean(image, axis=0)\n",
            "\n",
            "    # Find rows and columns to crop\n",
            "    rows_to_crop = np.where(row_means < threshold)[0]\n",
            "    cols_to_crop = np.where(col_means < threshold)[0]\n",
            "\n",
            "    # Crop image\n",
            "    cropped_image = image[rows_to_crop[0]:rows_to_crop[-1]+1, cols_to_crop[0]:cols_to_crop[-1]+1]\n",
            "\n",
            "    return cropped_image\n",
            "```\n",
            "\n",
            "In this function, we use the `cv2.imread` function from the OpenCV library to load the image as a grayscale image. We then calculate the mean values of rows and columns using the `np.mean` function along the specified axis. We find the rows and columns to crop by comparing the mean values to the threshold value. Finally, we use numpy array slicing to crop the image based on the identified rows and columns.\n",
            "\n",
            "You can adjust the threshold value as needed to determine what is considered \"darker\" and should be cropped.\n"
          ]
        }
      ]
    },
    {
      "cell_type": "code",
      "source": [
        "messages = [{\"role\":\"system\",'content':\"\"\"\n",
        "Create a python function which takes as input a file path to an imagem loads the image into memory as a numpy array,\n",
        "then crops the rows and columns around the perimeter if they are darker than a threshold value. Use the mean value of rows and columns to decide if they\n",
        "should be marked for deletion\n",
        "Make sure the output is only\n",
        "\n",
        "\"\"\"}]\n",
        "\n",
        "print(get_chat(messages))"
      ],
      "metadata": {
        "colab": {
          "base_uri": "https://localhost:8080/"
        },
        "id": "3NsYdF8ROV75",
        "outputId": "2e7eda6c-c59d-4d01-c5df-66f2d008aa90"
      },
      "execution_count": 9,
      "outputs": [
        {
          "output_type": "stream",
          "name": "stdout",
          "text": [
            "import cv2\n",
            "import numpy as np\n",
            "\n",
            "def crop_dark_perimeter(image_path, threshold):\n",
            "    # Load the image\n",
            "    image = cv2.imread(image_path)\n",
            "    \n",
            "    # Convert the image to grayscale\n",
            "    gray = cv2.cvtColor(image, cv2.COLOR_BGR2GRAY)\n",
            "    \n",
            "    # Calculate the mean value of rows and columns\n",
            "    row_means = np.mean(gray, axis=1)\n",
            "    col_means = np.mean(gray, axis=0)\n",
            "    \n",
            "    # Find the rows and columns to be cropped\n",
            "    rows_to_crop = np.where(row_means < threshold)[0]\n",
            "    cols_to_crop = np.where(col_means < threshold)[0]\n",
            "    \n",
            "    # Crop the image\n",
            "    cropped_image = image[rows_to_crop[0]:rows_to_crop[-1]+1, cols_to_crop[0]:cols_to_crop[-1]+1]\n",
            "    \n",
            "    return cropped_image\n"
          ]
        }
      ]
    },
    {
      "cell_type": "markdown",
      "source": [
        "#Bug fixing in a given code"
      ],
      "metadata": {
        "id": "ckgryu6NNLMi"
      }
    },
    {
      "cell_type": "code",
      "source": [
        "messages = [{\"role\":\"system\",'content':\"\"\"\n",
        "you will br provided with a piece of python code, and your task is to find and fix the bug in it.\n",
        "\"\"\"},\n",
        "{\"role\":\"user\",'content':\"\"\"\n",
        "qus = \"What is 4+2+9*8?\"\n",
        "ans = input(qus)\n",
        "if ans = 12:\n",
        "  print(none)\n",
        "  print(\"hello\")\n",
        "else:\n",
        "  print(\"bye\")\n",
        "\"\"\"\n",
        "}]\n",
        "\n",
        "print(get_chat(messages))"
      ],
      "metadata": {
        "colab": {
          "base_uri": "https://localhost:8080/"
        },
        "id": "aOS-CYsXL7oQ",
        "outputId": "9ccf883b-7b71-4be0-b320-b1b86f662a98"
      },
      "execution_count": 7,
      "outputs": [
        {
          "output_type": "stream",
          "name": "stdout",
          "text": [
            "There are a few bugs in the code. Here's the corrected version:\n",
            "\n",
            "qus = \"What is 4+2+9*8?\"\n",
            "ans = input(qus)\n",
            "if ans == \"12\":\n",
            "  print(\"none\")\n",
            "  print(\"hello\")\n",
            "else:\n",
            "  print(\"bye\")\n"
          ]
        }
      ]
    },
    {
      "cell_type": "markdown",
      "source": [
        "#For practice"
      ],
      "metadata": {
        "id": "LRyCAmDSSK1q"
      }
    },
    {
      "cell_type": "code",
      "source": [
        "messages = [{\"role\":\"system\",'content':\"\"\"\n",
        "you will br provided with a piece of python code, and your task is to find and fix the bug in it.\n",
        "\"\"\"},\n",
        "{\"role\":\"user\",'content':\"\"\"\n",
        "qus = \"What is 4+2+9*8?\"\n",
        "ans = input(qus)\n",
        "if ans = 12:\n",
        "  print(\"goohbye)\n",
        "elif ans = ans:\n",
        "  print(\"hello\")\n",
        "else:\n",
        "  print(\"nothing\")\n",
        "\"\"\"\n",
        "},\n",
        "            {\"role\":\"system\",'content':\"\"\" explain to me the bugs as well, then provide the result code.\n",
        "\"\"\"},]\n",
        "\n",
        "print(get_chat(messages))"
      ],
      "metadata": {
        "id": "EpOhzwPmL7fp"
      },
      "execution_count": null,
      "outputs": []
    },
    {
      "cell_type": "markdown",
      "source": [
        "#Prompt engineering integration to Sql Database\n",
        "- Using openai function call to integrate database\n"
      ],
      "metadata": {
        "id": "jWYuOwtyTB5s"
      }
    },
    {
      "cell_type": "code",
      "source": [
        "import sqlite3\n",
        "\n",
        "#create a connection to the database file\n",
        "conn = sqlite3.connect(\"chinook.db\")\n",
        "print(\"connected to database successfully\")"
      ],
      "metadata": {
        "id": "GB7Ae00TSWHR"
      },
      "execution_count": null,
      "outputs": []
    },
    {
      "cell_type": "code",
      "source": [
        "# helper function\n",
        "\n",
        "def get_table_name(conn):\n",
        "  \"Returns a list of table names in a database\"\n",
        "  table_names=[]\n",
        "  tables = conn.execute(\"select name from sqlite_master where type='table';\")\n",
        "  for tb in tables.fetchall():\n",
        "    table_names.append(tb[0])\n",
        "  return table_names\n",
        "\n",
        "def get_column_names(conn, table_name):\n",
        "  \"returns the schema/column name list for a given table in a database\"\n",
        "  cols = []\n",
        "  columns = conn.execute(f\"PRAGMA table_info('{table_name}');\").fetchall()\n",
        "  for c in columns:\n",
        "    cols.append(c[1])\n",
        "  return cols\n",
        "def get_database_info(conn):\n",
        "  \"returns a list of dicts containing the table name and columns for each table in the databese\"\n",
        "  table_dictionaries = []\n",
        "  for table in get_table_name(conn):\n",
        "    cols = get_column_names(conn,table)\n",
        "    table_dictionaries.append({\"table_name\":table,\"column_names\":cols})\n",
        "  return table_dictionaries"
      ],
      "metadata": {
        "id": "zO1gaHMJSWEZ"
      },
      "execution_count": 28,
      "outputs": []
    },
    {
      "cell_type": "code",
      "source": [],
      "metadata": {
        "id": "WNXxteZbXo9L"
      },
      "execution_count": null,
      "outputs": []
    },
    {
      "cell_type": "code",
      "source": [
        "get_table_name(conn)"
      ],
      "metadata": {
        "colab": {
          "base_uri": "https://localhost:8080/"
        },
        "id": "-v-2cRswSWBa",
        "outputId": "3aeb6e9a-4c4f-4016-e940-de2cbc36af3c"
      },
      "execution_count": 22,
      "outputs": [
        {
          "output_type": "execute_result",
          "data": {
            "text/plain": [
              "['albums',\n",
              " 'sqlite_sequence',\n",
              " 'artists',\n",
              " 'customers',\n",
              " 'employees',\n",
              " 'genres',\n",
              " 'invoices',\n",
              " 'invoice_items',\n",
              " 'media_types',\n",
              " 'playlists',\n",
              " 'playlist_track',\n",
              " 'tracks',\n",
              " 'sqlite_stat1']"
            ]
          },
          "metadata": {},
          "execution_count": 22
        }
      ]
    },
    {
      "cell_type": "code",
      "source": [
        "get_column_names(conn,'customers')"
      ],
      "metadata": {
        "colab": {
          "base_uri": "https://localhost:8080/"
        },
        "id": "4s9d_22uSV-J",
        "outputId": "22f44b3d-19c5-44a0-a6f7-b97fa9203d5d"
      },
      "execution_count": 29,
      "outputs": [
        {
          "output_type": "execute_result",
          "data": {
            "text/plain": [
              "['CustomerId',\n",
              " 'FirstName',\n",
              " 'LastName',\n",
              " 'Company',\n",
              " 'Address',\n",
              " 'City',\n",
              " 'State',\n",
              " 'Country',\n",
              " 'PostalCode',\n",
              " 'Phone',\n",
              " 'Fax',\n",
              " 'Email',\n",
              " 'SupportRepId']"
            ]
          },
          "metadata": {},
          "execution_count": 29
        }
      ]
    },
    {
      "cell_type": "code",
      "source": [
        "get_database_info(conn)"
      ],
      "metadata": {
        "id": "Q_6oaN1f2IVv"
      },
      "execution_count": null,
      "outputs": []
    },
    {
      "cell_type": "code",
      "source": [
        "database_schema_dict = get_database_info(conn)\n",
        "#converting the schema into more prompt friendly format\n",
        "database_schema_string = \"\\n\".join(\n",
        "    {\n",
        "        f\"Table: {table['table_name']}\\nColumns:{', '.join(table['column_names'])}\" for table in database_schema_dict\n",
        "    }\n",
        ")\n",
        "print(database_schema_string)"
      ],
      "metadata": {
        "id": "kN8VxjSk2ITm",
        "colab": {
          "base_uri": "https://localhost:8080/"
        },
        "outputId": "ca05b821-920e-41d5-d932-0780189c89e9"
      },
      "execution_count": 31,
      "outputs": [
        {
          "output_type": "stream",
          "name": "stdout",
          "text": [
            "Table: media_types\n",
            "Columns:MediaTypeId, Name\n",
            "Table: artists\n",
            "Columns:ArtistId, Name\n",
            "Table: playlist_track\n",
            "Columns:PlaylistId, TrackId\n",
            "Table: playlists\n",
            "Columns:PlaylistId, Name\n",
            "Table: tracks\n",
            "Columns:TrackId, Name, AlbumId, MediaTypeId, GenreId, Composer, Milliseconds, Bytes, UnitPrice\n",
            "Table: sqlite_sequence\n",
            "Columns:name, seq\n",
            "Table: albums\n",
            "Columns:AlbumId, Title, ArtistId\n",
            "Table: sqlite_stat1\n",
            "Columns:tbl, idx, stat\n",
            "Table: genres\n",
            "Columns:GenreId, Name\n",
            "Table: customers\n",
            "Columns:CustomerId, FirstName, LastName, Company, Address, City, State, Country, PostalCode, Phone, Fax, Email, SupportRepId\n",
            "Table: invoices\n",
            "Columns:InvoiceId, CustomerId, InvoiceDate, BillingAddress, BillingCity, BillingState, BillingCountry, BillingPostalCode, Total\n",
            "Table: invoice_items\n",
            "Columns:InvoiceLineId, InvoiceId, TrackId, UnitPrice, Quantity\n",
            "Table: employees\n",
            "Columns:EmployeeId, LastName, FirstName, Title, ReportsTo, BirthDate, HireDate, Address, City, State, Country, PostalCode, Phone, Fax, Email\n"
          ]
        }
      ]
    },
    {
      "cell_type": "code",
      "source": [
        "# # creating functions for OpenAi API\n",
        "# functions = [\n",
        "#     {\n",
        "#     \"name\":\"ask_database\",\n",
        "#     \"description\":\"Use this function to ansert questions about music. Input should be a fully formed SQL query for a aqlite databse\",\n",
        "#     \"parameters\":{\n",
        "#         \"type\":\"object\",\n",
        "#         \"properties\":{\n",
        "#             \"query\":{\n",
        "#                 \"type\":\"string\",\n",
        "#                 \"description\":f\"\"\"\n",
        "#                 SQL query extracting info to answer the user's question.\n",
        "#                 SQL should be written using this database schema:\n",
        "#                 {database_schema_string}\n",
        "\n",
        "#                 This query should e returned in plain text, not in JSON, it should not haby any explanation other than query.\n",
        "#                 Don't make assumptions about the values to plug in to function, ask for clarification is the user request is\n",
        "#                 \"\"\",\n",
        "#             },\n",
        "\n",
        "#         },\n",
        "#            \"required\":[\"query\"],\n",
        "#      }\n",
        "#     },\n",
        "# ]\n",
        "functions = [\n",
        "    {\n",
        "        \"name\":\"ask_database\",\n",
        "        \"description\":\"Use this function to answer questions about music. INput should be a fully formed SQL query for a sqlite database\",\n",
        "        \"parameters\":{\n",
        "            \"type\":\"object\",\n",
        "            \"properties\":{\n",
        "                \"query\":{\n",
        "                    \"type\":\"string\",\n",
        "                    \"description\":f\"\"\"\n",
        "                            SQL query extracting info to answer the user's question.\n",
        "                            SQL should be written using this database schema:\n",
        "                            {database_schema_string}\n",
        "\n",
        "                            This query should be returned in plain text, not in JSON, it should not haby any explanation other than query.\n",
        "                            Don't make assumptions about the values to plug in to function, ask for clarification is the user request is ambiguous\n",
        "\n",
        "                    \"\"\",\n",
        "                },\n",
        "            },\n",
        "            \"required\":[\"query\"],\n",
        "        }\n",
        "    },\n",
        "]\n",
        "\n",
        "\n"
      ],
      "metadata": {
        "id": "D-mbeWKi2IRC"
      },
      "execution_count": 64,
      "outputs": []
    },
    {
      "cell_type": "code",
      "source": [
        "key = \"key\"\n",
        "import openai\n",
        "import json\n",
        "openai.api_key = key"
      ],
      "metadata": {
        "id": "ktRyz2K0bofz"
      },
      "execution_count": 60,
      "outputs": []
    },
    {
      "cell_type": "code",
      "source": [
        "# def ask_database(conn,query):\n",
        "#   \"function to query sqlite database with a provided sql query\"\n",
        "#   try:\n",
        "#     results = str(conn.execute(query).fetchall())\n",
        "#   except Exception as e:\n",
        "#     results = f\"query failed with exception {e}\"\n",
        "#   return results\n",
        "\n",
        "# def execute_function_call(message):\n",
        "#   if message['function_call']['name']=='ask_database':\n",
        "#     query = json.loads(message['function_call']['arguments'])['query']\n",
        "#     #print(query)\n",
        "#     results = ask_database(conn,query)\n",
        "#   else:\n",
        "#     results = f\"Error function {message['function_call']['name']}does not exist\"\n",
        "#   return results\n",
        "def ask_database(conn,query):\n",
        "  \"function to query sqlite database with a provided sql query\"\n",
        "  try:\n",
        "    results = str(conn.execute(query).fetchall())\n",
        "  except Exception as e:\n",
        "    results = f\"query failed with exception {e}\"\n",
        "  return results\n",
        "\n",
        "\n",
        "\n",
        "def execute_function_call(message):\n",
        "  if message['function_call']['name'] == 'ask_database':\n",
        "    #print(message)\n",
        "    query = json.loads(message['function_call']['arguments'])['query']\n",
        "    #print(query)\n",
        "    results = ask_database(conn,query)\n",
        "  else:\n",
        "    results = f\"Error function {message['function_call']['name']} does not exist\"\n",
        "  return results"
      ],
      "metadata": {
        "id": "IOLgk-ss2IOH"
      },
      "execution_count": 63,
      "outputs": []
    },
    {
      "cell_type": "code",
      "source": [
        "# def get_chatcompletion(prompt):\n",
        "#   messages = [{\"role\":\"system\",\"contnet\":\"Answer user questions by generating SQL queries against the chinook music database\"},]\n",
        "#   messages.append({\"role\":\"user\",\"content\":prompt})\n",
        "#   chat_response = openai.ChatCompletion.create(messages = messages,\n",
        "#                                                model =\"gpt-3.5-turbo\",\n",
        "#                                                function=function)\n",
        "#   assistant_msg = chat_response['choices'][0]['message']\n",
        "#   messages.append(assistant_msg)\n",
        "#   if assistant_msg.get('function_call'):\n",
        "#     results = execute_function_call(assistant_msg)\n",
        "#     messages.append({\"role\":\"function\",\"name\":assistant_msg['function_call']['name'],'content':results})\n",
        "#     print(results)\n",
        "#   else:\n",
        "#     print(messages)\n",
        "def get_chatcompletion(prompt):\n",
        "  messages = [{\"role\":\"system\",\"content\":\"Answer user questions by generating SQL queries against the chinook music database\"},]\n",
        "  messages.append({\"role\":\"user\",\"content\":prompt})\n",
        "  chat_response = openai.ChatCompletion.create(messages = messages,\n",
        "                                               model=\"gpt-3.5-turbo\",\n",
        "                                               functions=functions)\n",
        "  assistant_msg = chat_response['choices'][0]['message']\n",
        "  messages.append(assistant_msg)\n",
        "  if assistant_msg.get('function_call'):\n",
        "    results = execute_function_call(assistant_msg)\n",
        "    messages.append({\"role\":\"function\",\"name\":assistant_msg[\"function_call\"]['name'],'content':results})\n",
        "    print(results)\n",
        "  else:\n",
        "    print(messages)"
      ],
      "metadata": {
        "id": "lPaRvXLG2IL2"
      },
      "execution_count": 58,
      "outputs": []
    },
    {
      "cell_type": "code",
      "source": [
        "get_chatcompletion(\"Hi, who are the top 5 artists by number of tracks?\")\n",
        "\n",
        "\n"
      ],
      "metadata": {
        "id": "wWRa4JCR2IJG",
        "colab": {
          "base_uri": "https://localhost:8080/"
        },
        "outputId": "8732f5ad-ec86-459e-fa37-cbdf79067ad6"
      },
      "execution_count": 61,
      "outputs": [
        {
          "output_type": "stream",
          "name": "stdout",
          "text": [
            "SELECT artists.Name, COUNT(tracks.TrackId) AS num_tracks FROM artists JOIN albums ON artists.ArtistId = albums.ArtistId JOIN tracks ON albums.AlbumId = tracks.AlbumId GROUP BY artists.Name ORDER BY num_tracks DESC LIMIT 5;\n",
            "[('Iron Maiden', 213), ('U2', 135), ('Led Zeppelin', 114), ('Metallica', 112), ('Lost', 92)]\n"
          ]
        }
      ]
    },
    {
      "cell_type": "code",
      "source": [
        "\n",
        "get_chatcompletion(\"what is the name of album with the most tracks?\")"
      ],
      "metadata": {
        "id": "VVMHPjoP2IGH",
        "colab": {
          "base_uri": "https://localhost:8080/"
        },
        "outputId": "72c655ef-82e6-4107-9770-04b8c5cce430"
      },
      "execution_count": 62,
      "outputs": [
        {
          "output_type": "stream",
          "name": "stdout",
          "text": [
            "SELECT albums.Title FROM albums JOIN (SELECT AlbumId, COUNT(TrackId) AS NumTracks FROM tracks GROUP BY AlbumId) AS Subquery ON albums.AlbumId = Subquery.AlbumId ORDER BY Subquery.NumTracks DESC LIMIT 1\n",
            "[('Greatest Hits',)]\n"
          ]
        }
      ]
    },
    {
      "cell_type": "code",
      "source": [],
      "metadata": {
        "id": "CqBx-biq2GpX"
      },
      "execution_count": null,
      "outputs": []
    }
  ]
}
